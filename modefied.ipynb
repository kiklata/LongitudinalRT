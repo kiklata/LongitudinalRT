{
 "cells": [
  {
   "cell_type": "markdown",
   "metadata": {},
   "source": [
    "## load pkgs"
   ]
  },
  {
   "cell_type": "code",
   "execution_count": null,
   "metadata": {},
   "outputs": [],
   "source": [
    "import numpy as np\n",
    "import pandas as pd\n",
    "import scanpy as sc\n",
    "import anndata as ad\n",
    "import matplotlib.pyplot as plt\n",
    "import os"
   ]
  },
  {
   "cell_type": "code",
   "execution_count": null,
   "metadata": {},
   "outputs": [],
   "source": [
    "sc.set_figure_params(dpi=120, dpi_save=300, vector_friendly=False, figsize=(4,4))\n",
    "sc.settings.verbosity = 1\n",
    "sc.logging.print_header()\n",
    "\n",
    "%matplotlib inline "
   ]
  },
  {
   "cell_type": "markdown",
   "metadata": {},
   "source": [
    "## plot setting"
   ]
  },
  {
   "cell_type": "code",
   "execution_count": null,
   "metadata": {},
   "outputs": [],
   "source": [
    "%run ./py_script/marker.py"
   ]
  },
  {
   "cell_type": "code",
   "execution_count": null,
   "metadata": {},
   "outputs": [],
   "source": [
    "%run ./py_script/colorconfig.py"
   ]
  },
  {
   "cell_type": "markdown",
   "metadata": {},
   "source": [
    "## workpath"
   ]
  },
  {
   "cell_type": "code",
   "execution_count": null,
   "metadata": {},
   "outputs": [],
   "source": [
    "# tumor\n",
    "workdir = '/home/zhepan/Project/MultiOmics/data/snRNA/Object/'\n",
    "sample_list = ['P1013S2','P1015S2','P1018S1']\n",
    "resdir = '/home/zhepan/Project/MultiOmics/data/snRNA/Object/summary/test'"
   ]
  },
  {
   "cell_type": "code",
   "execution_count": null,
   "metadata": {},
   "outputs": [],
   "source": [
    "# skin\n",
    "workdir = '/home/zhepan/Project/MultiOmics/data/skin/'\n",
    "sample_list = ['SKIN-A1002','SKIN-B1002','SKIN-A1007','SKIN-B1007','SKIN-A1009','SKIN-B1009']\n",
    "resdir = '/home/zhepan/Project/MultiOmics/data/skin/res'"
   ]
  },
  {
   "cell_type": "code",
   "execution_count": null,
   "metadata": {},
   "outputs": [],
   "source": [
    "filtertype = 'cellranger'"
   ]
  },
  {
   "cell_type": "markdown",
   "metadata": {},
   "source": [
    "## process"
   ]
  },
  {
   "cell_type": "code",
   "execution_count": null,
   "metadata": {},
   "outputs": [],
   "source": [
    "adatas = [sc.read_h5ad(workdir+'/'+sample+'/raw/'+filtertype+'_doublet.h5ad') for sample in sample_list]"
   ]
  },
  {
   "cell_type": "code",
   "execution_count": null,
   "metadata": {},
   "outputs": [],
   "source": [
    "for index, adata in enumerate(adatas):\n",
    "    adatas[index].obs_names = [obs_name[0:16] for obs_name in adatas[index].obs_names]"
   ]
  },
  {
   "cell_type": "code",
   "execution_count": null,
   "metadata": {},
   "outputs": [],
   "source": [
    "adata = ad.concat([adatas[index] for index,adata in enumerate(adatas)], uns_merge='same', keys = sample_list, join='outer')\n",
    "adata.obs_names = adata.obs_names + '-' + adata.obs['SampleID'].tolist()\n",
    "adata"
   ]
  },
  {
   "cell_type": "code",
   "execution_count": null,
   "metadata": {},
   "outputs": [],
   "source": [
    "adata.obs['SampleID'].value_counts()"
   ]
  },
  {
   "cell_type": "code",
   "execution_count": null,
   "metadata": {},
   "outputs": [],
   "source": [
    "adata.write_h5ad(resdir+'/'+filtertype+'_raw.h5ad')"
   ]
  },
  {
   "cell_type": "code",
   "execution_count": null,
   "metadata": {},
   "outputs": [],
   "source": [
    "adata = sc.read_h5ad(resdir+'/'+filtertype+'_raw.h5ad')"
   ]
  },
  {
   "cell_type": "code",
   "execution_count": null,
   "metadata": {},
   "outputs": [],
   "source": [
    "mt_gene = adata.var_names[adata.var_names.str.startswith('MT-')]\n",
    "hb_gene = adata.var_names[adata.var_names.str.contains('^HB[^P]')]\n",
    "rp_gene = adata.var_names[adata.var_names.str.startswith(('RPS','RPL'))]"
   ]
  },
  {
   "cell_type": "code",
   "execution_count": null,
   "metadata": {},
   "outputs": [],
   "source": [
    "remove_gene = np.concatenate([mt_gene,rp_gene], axis = None)\n",
    "remove_gene"
   ]
  },
  {
   "cell_type": "code",
   "execution_count": null,
   "metadata": {},
   "outputs": [],
   "source": [
    "# optional\n",
    "adata = adata[:,adata.var_names.isin(remove_gene) == False]"
   ]
  },
  {
   "cell_type": "code",
   "execution_count": null,
   "metadata": {},
   "outputs": [],
   "source": [
    "%%capture --no-display\n",
    "sc.pl.highest_expr_genes(adata, n_top=20)"
   ]
  },
  {
   "cell_type": "code",
   "execution_count": null,
   "metadata": {},
   "outputs": [],
   "source": [
    "sc.pp.filter_cells(adata, min_genes=200)\n",
    "sc.pp.filter_genes(adata, min_cells=3)"
   ]
  },
  {
   "cell_type": "code",
   "execution_count": null,
   "metadata": {},
   "outputs": [],
   "source": [
    "%%capture --no-display\n",
    "sc.pl.violin(adata, [\n",
    "    'nFeature_RNA',\n",
    "    'nCount_RNA', \n",
    "    'percent_mt',\n",
    "    #'percent_hb'\n",
    "    ],groupby='SampleID',\n",
    "    jitter=0.4, multi_panel=True,stripplot=False)"
   ]
  },
  {
   "cell_type": "code",
   "execution_count": null,
   "metadata": {},
   "outputs": [],
   "source": [
    "sc.pl.scatter(adata, x='nCount_RNA', y='nFeature_RNA')"
   ]
  },
  {
   "cell_type": "code",
   "execution_count": null,
   "metadata": {},
   "outputs": [],
   "source": [
    "adata.obs.groupby('SampleID')['percent_mt'].describe()"
   ]
  },
  {
   "cell_type": "code",
   "execution_count": null,
   "metadata": {},
   "outputs": [],
   "source": [
    "adata = adata[adata.obs.nFeature_RNA < 5000, :]\n",
    "adata = adata[adata.obs.nCount_RNA < 20000, :]\n",
    "adata = adata[adata.obs.nCount_RNA > 500,:]\n",
    "adata = adata[adata.obs.percent_mt < 10, :]\n",
    "#adata = adata[adata.obs.percent_hb < 0.2, :]"
   ]
  },
  {
   "cell_type": "code",
   "execution_count": null,
   "metadata": {},
   "outputs": [],
   "source": [
    "adata = adata[adata.obs['scDblFinder.class'] == 'singlet', :]"
   ]
  },
  {
   "cell_type": "code",
   "execution_count": null,
   "metadata": {},
   "outputs": [],
   "source": [
    "adata.obs.SampleID.value_counts()"
   ]
  },
  {
   "cell_type": "code",
   "execution_count": null,
   "metadata": {},
   "outputs": [],
   "source": [
    "%%capture --no-display\n",
    "sc.pl.violin(adata, ['nFeature_RNA', 'nCount_RNA', 'percent_mt'],groupby='SampleID',\n",
    "             jitter=0.4, multi_panel=True,stripplot=False)"
   ]
  },
  {
   "cell_type": "code",
   "execution_count": null,
   "metadata": {},
   "outputs": [],
   "source": [
    "adata.obs.groupby('SampleID')['percent_mt'].describe()"
   ]
  },
  {
   "cell_type": "code",
   "execution_count": null,
   "metadata": {},
   "outputs": [],
   "source": [
    "adata.write_h5ad(resdir+'/'+filtertype+'_qc.h5ad')"
   ]
  },
  {
   "cell_type": "code",
   "execution_count": null,
   "metadata": {},
   "outputs": [],
   "source": [
    "adata = sc.read_h5ad(resdir+'/'+filtertype+'_qc.h5ad')"
   ]
  },
  {
   "cell_type": "code",
   "execution_count": null,
   "metadata": {},
   "outputs": [],
   "source": [
    "adata.layers['count'] = adata.X.copy()\n",
    "sc.pp.normalize_total(adata, target_sum=1e4)\n",
    "sc.pp.log1p(adata)\n",
    "adata.raw = adata"
   ]
  },
  {
   "cell_type": "code",
   "execution_count": null,
   "metadata": {},
   "outputs": [],
   "source": [
    "sc.pp.highly_variable_genes(\n",
    "    adata,layer = 'count',\n",
    "    flavor=\"seurat_v3\",\n",
    "    n_top_genes=3000,\n",
    "    batch_key=\"SampleID\",\n",
    "    subset=True,\n",
    ")"
   ]
  },
  {
   "cell_type": "code",
   "execution_count": null,
   "metadata": {},
   "outputs": [],
   "source": [
    "#sc.pp.regress_out(adata, ['S_score', 'G2M_score'])\n",
    "sc.pp.scale(adata)"
   ]
  },
  {
   "cell_type": "code",
   "execution_count": null,
   "metadata": {},
   "outputs": [],
   "source": [
    "sc.tl.pca(adata, svd_solver='arpack')\n",
    "sc.pl.pca_variance_ratio(adata, log=True)"
   ]
  },
  {
   "cell_type": "code",
   "execution_count": null,
   "metadata": {},
   "outputs": [],
   "source": [
    "sc.pp.neighbors(adata, n_neighbors=15, n_pcs=40)\n",
    "sc.tl.umap(adata,min_dist=0.2)"
   ]
  },
  {
   "cell_type": "code",
   "execution_count": null,
   "metadata": {},
   "outputs": [],
   "source": [
    "sc.pl.umap(adata,color = ['SampleID','SampleType'], ncols = 2)"
   ]
  },
  {
   "cell_type": "code",
   "execution_count": null,
   "metadata": {},
   "outputs": [],
   "source": [
    "sc.pl.umap(adata,color = ['KRT14','KRT1','KRT10'])"
   ]
  },
  {
   "cell_type": "code",
   "execution_count": null,
   "metadata": {},
   "outputs": [],
   "source": [
    "import scanpy.external as sce"
   ]
  },
  {
   "cell_type": "code",
   "execution_count": null,
   "metadata": {},
   "outputs": [],
   "source": [
    "sce.pp.harmony_integrate(adata, ['SampleID','SampleType'],max_iter_harmony=20)"
   ]
  },
  {
   "cell_type": "code",
   "execution_count": null,
   "metadata": {},
   "outputs": [],
   "source": [
    "sc.pp.neighbors(adata, use_rep='X_pca_harmony',n_neighbors=15, n_pcs=40)"
   ]
  },
  {
   "cell_type": "code",
   "execution_count": null,
   "metadata": {},
   "outputs": [],
   "source": [
    "sc.tl.umap(adata,min_dist=0.2)\n",
    "sc.pl.umap(adata, color=[\"SampleID\",'SampleType'], frameon=False, ncols=2)"
   ]
  },
  {
   "cell_type": "code",
   "execution_count": null,
   "metadata": {},
   "outputs": [],
   "source": [
    "sc.pl.umap(adata,color = ['KRT14','KRT1','KRT10'])"
   ]
  },
  {
   "cell_type": "code",
   "execution_count": null,
   "metadata": {},
   "outputs": [],
   "source": [
    "for i in [1.0,1.4,1.7,2.0]:\n",
    "    sc.tl.leiden(adata, resolution = i, key_added = ('harmony_leiden_'+str(i)))"
   ]
  },
  {
   "cell_type": "code",
   "execution_count": null,
   "metadata": {},
   "outputs": [],
   "source": [
    "sc.pl.umap(adata, color=[ \"harmony_leiden_1.0\",\"harmony_leiden_1.4\"], frameon=False, ncols=4)"
   ]
  },
  {
   "cell_type": "code",
   "execution_count": null,
   "metadata": {},
   "outputs": [],
   "source": [
    "%%capture --no-display\n",
    "sc.pl.violin(adata, ['percent_mt'],groupby='harmony_leiden_1.0',\n",
    "             jitter=0.4, multi_panel=True,stripplot=False)"
   ]
  },
  {
   "cell_type": "code",
   "execution_count": null,
   "metadata": {},
   "outputs": [],
   "source": [
    "adata.write_h5ad(resdir+'/'+filtertype+'_harmony.h5ad')"
   ]
  },
  {
   "cell_type": "code",
   "execution_count": null,
   "metadata": {},
   "outputs": [],
   "source": [
    "pd.crosstab(adata.obs['harmony_leiden_1.0'],adata.obs['SampleID'])"
   ]
  },
  {
   "cell_type": "code",
   "execution_count": null,
   "metadata": {},
   "outputs": [],
   "source": [
    "remove_group"
   ]
  },
  {
   "cell_type": "code",
   "execution_count": null,
   "metadata": {},
   "outputs": [],
   "source": [
    "cluster_select = 'harmony_leiden_1.0'\n",
    "remove_group = list(map(str, range(23, 26)))+['17','20','27','28','29','30']\n",
    "sc.pl.umap(adata, color=[cluster_select], groups=remove_group, frameon=False)"
   ]
  },
  {
   "cell_type": "code",
   "execution_count": null,
   "metadata": {},
   "outputs": [],
   "source": [
    "adata_qc = sc.read_h5ad(resdir+'/'+filtertype+'_qc.h5ad')"
   ]
  },
  {
   "cell_type": "code",
   "execution_count": null,
   "metadata": {},
   "outputs": [],
   "source": [
    "adata_qc.obs = adata_qc.obs.join(adata.obs['harmony_leiden_1.0'], how='left')"
   ]
  },
  {
   "cell_type": "code",
   "execution_count": null,
   "metadata": {},
   "outputs": [],
   "source": [
    "sc.pp.normalize_total(adata_qc, target_sum = 1e4)\n",
    "sc.pp.log1p(adata_qc)"
   ]
  },
  {
   "cell_type": "code",
   "execution_count": null,
   "metadata": {},
   "outputs": [],
   "source": [
    "%%capture --no-display\n",
    "sc.tl.rank_genes_groups(adata_qc, 'harmony_leiden_1.0', method='wilcoxon')"
   ]
  },
  {
   "cell_type": "code",
   "execution_count": null,
   "metadata": {},
   "outputs": [],
   "source": [
    "marker_enrich = pd.DataFrame(adata_qc.uns['rank_genes_groups']['names'])"
   ]
  },
  {
   "cell_type": "code",
   "execution_count": null,
   "metadata": {},
   "outputs": [],
   "source": [
    "import gseapy as gp\n",
    "import decoupler as dc"
   ]
  },
  {
   "cell_type": "code",
   "execution_count": null,
   "metadata": {},
   "outputs": [],
   "source": [
    "enr = gp.enrichr(marker_enrich['22'].head(20), gene_sets=['Azimuth_2023'], organism='human', outdir=None)\n",
    "enr.results.head(5)"
   ]
  },
  {
   "cell_type": "code",
   "execution_count": null,
   "metadata": {},
   "outputs": [],
   "source": [
    "index_keep = adata.obs[adata.obs[cluster_select].isin(remove_group)==False].index"
   ]
  },
  {
   "cell_type": "code",
   "execution_count": null,
   "metadata": {},
   "outputs": [],
   "source": [
    "adata_qc = sc.read_h5ad(resdir+'/'+filtertype+'_qc.h5ad')"
   ]
  },
  {
   "cell_type": "code",
   "execution_count": null,
   "metadata": {},
   "outputs": [],
   "source": [
    "adata_keep = adata_qc[adata_qc.obs.index.isin(index_keep),:]\n",
    "adata_keep"
   ]
  },
  {
   "cell_type": "code",
   "execution_count": null,
   "metadata": {},
   "outputs": [],
   "source": [
    "adata_keep.layers['count'] = adata_keep.X.copy()\n",
    "sc.pp.normalize_total(adata_keep, target_sum=1e4)\n",
    "sc.pp.log1p(adata_keep)\n",
    "adata_keep.raw = adata_keep\n",
    "sc.pp.highly_variable_genes(\n",
    "    adata_keep,layer = 'count',\n",
    "    flavor=\"seurat_v3\",\n",
    "    n_top_genes=3000,\n",
    "    batch_key=\"SampleID\",\n",
    "    subset=True,\n",
    ")"
   ]
  },
  {
   "cell_type": "code",
   "execution_count": null,
   "metadata": {},
   "outputs": [],
   "source": [
    "sc.pp.scale(adata_keep)\n",
    "sc.tl.pca(adata_keep, svd_solver='arpack')"
   ]
  },
  {
   "cell_type": "code",
   "execution_count": null,
   "metadata": {},
   "outputs": [],
   "source": [
    "sce.pp.harmony_integrate(adata_keep, ['SampleID','SampleType'],max_iter_harmony=20)\n",
    "sc.pp.neighbors(adata_keep, use_rep='X_pca_harmony',n_neighbors=15, n_pcs=40)"
   ]
  },
  {
   "cell_type": "code",
   "execution_count": null,
   "metadata": {},
   "outputs": [],
   "source": [
    "sc.tl.umap(adata_keep,min_dist=0.2)"
   ]
  },
  {
   "cell_type": "code",
   "execution_count": null,
   "metadata": {},
   "outputs": [],
   "source": [
    "for i in [0.8,1.0,1.2,1.4]:\n",
    "    sc.tl.leiden(adata_keep, resolution = i, key_added = ('keep_leiden_'+str(i)))"
   ]
  },
  {
   "cell_type": "code",
   "execution_count": null,
   "metadata": {},
   "outputs": [],
   "source": [
    "pd.crosstab(adata_keep.obs['keep_leiden_1.0'],adata.obs['harmony_leiden_1.0'])"
   ]
  },
  {
   "cell_type": "code",
   "execution_count": null,
   "metadata": {},
   "outputs": [],
   "source": [
    "sc.pl.umap(adata_keep, color=['SampleID'], frameon=False, ncols=2)"
   ]
  },
  {
   "cell_type": "code",
   "execution_count": null,
   "metadata": {},
   "outputs": [],
   "source": [
    "sc.pl.umap(adata_keep, color=['keep_leiden_0.8','keep_leiden_1.0','keep_leiden_1.2','keep_leiden_1.4'], frameon=False, ncols=2)"
   ]
  },
  {
   "cell_type": "code",
   "execution_count": null,
   "metadata": {},
   "outputs": [],
   "source": [
    "pd.crosstab(adata_keep.obs['keep_leiden_1.0'],adata_keep.obs['SampleID'])"
   ]
  },
  {
   "cell_type": "code",
   "execution_count": null,
   "metadata": {},
   "outputs": [],
   "source": [
    "adata_deg = sc.read_h5ad(resdir+'/'+filtertype+'_qc.h5ad')"
   ]
  },
  {
   "cell_type": "code",
   "execution_count": null,
   "metadata": {},
   "outputs": [],
   "source": [
    "adata_deg = adata_deg[adata_deg.obs.index.isin(index_keep),:]"
   ]
  },
  {
   "cell_type": "code",
   "execution_count": null,
   "metadata": {},
   "outputs": [],
   "source": [
    "adata_deg.obs = adata_deg.obs.join(adata_keep.obs['keep_leiden_1.0'], how='left')"
   ]
  },
  {
   "cell_type": "code",
   "execution_count": null,
   "metadata": {},
   "outputs": [],
   "source": [
    "sc.pp.normalize_total(adata_deg, target_sum = 1e4)\n",
    "sc.pp.log1p(adata_deg)"
   ]
  },
  {
   "cell_type": "code",
   "execution_count": null,
   "metadata": {},
   "outputs": [],
   "source": [
    "%%capture --no-display\n",
    "sc.tl.rank_genes_groups(adata_deg, 'keep_leiden_1.0', method='wilcoxon')\n",
    "sc.tl.filter_rank_genes_groups(adata_deg, min_fold_change=1.5,min_in_group_fraction=0.8,max_out_group_fraction=0.2)"
   ]
  },
  {
   "cell_type": "code",
   "execution_count": null,
   "metadata": {},
   "outputs": [],
   "source": [
    "adata_deg"
   ]
  },
  {
   "cell_type": "code",
   "execution_count": null,
   "metadata": {},
   "outputs": [],
   "source": [
    "sc.pl.rank_genes_groups_dotplot(adata_deg, key='rank_genes_groups',dendrogram=False,n_genes =5)"
   ]
  },
  {
   "cell_type": "code",
   "execution_count": null,
   "metadata": {},
   "outputs": [],
   "source": [
    "df_markers = sc.get.rank_genes_groups_df(adata_deg, group=adata_deg.obs['keep_leiden_1.0'].unique(), key='rank_genes_groups_filtered')\n",
    "df_markers = df_markers.loc[~ df_markers.names.isna()]\n",
    "df_markers.to_csv(resdir + 'markers.csv')"
   ]
  },
  {
   "cell_type": "code",
   "execution_count": null,
   "metadata": {},
   "outputs": [],
   "source": [
    "marker_enrich = pd.DataFrame(adata_deg.uns['rank_genes_groups']['names'])"
   ]
  },
  {
   "cell_type": "code",
   "execution_count": null,
   "metadata": {},
   "outputs": [],
   "source": [
    "enr = gp.enrichr(marker_enrich['13'].head(50), gene_sets=['Azimuth_2023'], organism='human', outdir=None)\n",
    "enr.results.head(5)"
   ]
  },
  {
   "cell_type": "code",
   "execution_count": null,
   "metadata": {},
   "outputs": [],
   "source": [
    "sc.pl.umap(adata_keep, color=['keep_leiden_1.0'], frameon=False, ncols=2)"
   ]
  },
  {
   "cell_type": "code",
   "execution_count": null,
   "metadata": {},
   "outputs": [],
   "source": [
    "sc.pl.umap(adata_keep, color=['KRT14','KRT10','KRT1'],use_raw=True)"
   ]
  },
  {
   "cell_type": "code",
   "execution_count": null,
   "metadata": {},
   "outputs": [],
   "source": [
    "import celltypist"
   ]
  },
  {
   "cell_type": "code",
   "execution_count": null,
   "metadata": {},
   "outputs": [],
   "source": [
    "pred_GTEx_major = celltypist.annotate(adata_deg, model = '/home/zhepan/Reference/celltypist/skin_major_from_GTEx.pkl', majority_voting = True)\n",
    "pred_GTEx_minor = celltypist.annotate(adata_deg, model = '/home/zhepan/Reference/celltypist/skin_minor_from_GTEx.pkl', majority_voting = True)\n",
    "pred_TS_compart = celltypist.annotate(adata_deg, model = '/home/zhepan/Reference/celltypist/skin_compartment_from_TS.pkl', majority_voting = True)\n",
    "pred_TS_subset = celltypist.annotate(adata_deg, model = '/home/zhepan/Reference/celltypist/skin_subset_from_TS.pkl', majority_voting = True)\n",
    "pred_deve_minor = celltypist.annotate(adata_deg, model = '/home/zhepan/Reference/celltypist/skin_minor_from_Develop.pkl', majority_voting = True)\n",
    "pred_deve_subset = celltypist.annotate(adata_deg, model = '/home/zhepan/Reference/celltypist/skin_subset_from_Develop.pkl', majority_voting = True)"
   ]
  },
  {
   "cell_type": "code",
   "execution_count": null,
   "metadata": {},
   "outputs": [],
   "source": [
    "pred_GTEx_major.predicted_labels['predicted_labels'].value_counts()"
   ]
  },
  {
   "cell_type": "code",
   "execution_count": null,
   "metadata": {},
   "outputs": [],
   "source": [
    "adata_keep.obs = adata_keep.obs.join(pred_GTEx_major.predicted_labels['predicted_labels']).rename(columns={'predicted_labels':'GTEx_major'})\n",
    "adata_keep.obs = adata_keep.obs.join(pred_GTEx_minor.predicted_labels['predicted_labels']).rename(columns={'predicted_labels':'GTEx_minor'})\n",
    "adata_keep.obs = adata_keep.obs.join(pred_TS_compart.predicted_labels['predicted_labels']).rename(columns={'predicted_labels':'TS_compart'})\n",
    "adata_keep.obs = adata_keep.obs.join(pred_TS_subset.predicted_labels['predicted_labels']).rename(columns={'predicted_labels':'TS_subset'})\n",
    "adata_keep.obs = adata_keep.obs.join(pred_deve_minor.predicted_labels['predicted_labels']).rename(columns={'predicted_labels':'deve_minor'})\n",
    "adata_keep.obs = adata_keep.obs.join(pred_deve_subset.predicted_labels['predicted_labels']).rename(columns={'predicted_labels':'deve_subset'})"
   ]
  },
  {
   "cell_type": "code",
   "execution_count": null,
   "metadata": {},
   "outputs": [],
   "source": [
    "pd.crosstab(adata_keep.obs['SampleID'], adata_keep.obs['GTEx_major'])"
   ]
  },
  {
   "cell_type": "code",
   "execution_count": null,
   "metadata": {},
   "outputs": [],
   "source": [
    "sc.pl.umap(adata_keep, color = ['GTEx_major','TS_subset','deve_minor'], ncols=1, legend_fontsize='xx-small')"
   ]
  },
  {
   "cell_type": "code",
   "execution_count": null,
   "metadata": {},
   "outputs": [],
   "source": [
    "pd.crosstab(adata_keep.obs['keep_leiden_1.0'], adata_keep.obs['deve_minor'])"
   ]
  },
  {
   "cell_type": "code",
   "execution_count": null,
   "metadata": {},
   "outputs": [],
   "source": [
    "sc.pl.umap(adata_keep, color = ['keep_leiden_1.0'], groups=['12','21'], ncols=1, legend_fontsize='xx-small')"
   ]
  },
  {
   "cell_type": "code",
   "execution_count": null,
   "metadata": {},
   "outputs": [],
   "source": [
    "cl_major={\n",
    "    \"0\": \"Epithelial\",\n",
    "    \"1\": \"Epithelial\",\n",
    "    \"2\": \"Epithelial\",\n",
    "    \"3\": \"Epithelial\",\n",
    "    \"4\": \"Fibroblast\",\n",
    "    \"5\": \"Endothelial\",\n",
    "    \"6\": \"Epithelial\",\n",
    "    \"7\": \"Melanocyte\",\n",
    "    \"8\": \"Fibroblast\",\n",
    "    \"9\": \"Myeloid\",\n",
    "    \"10\": \"Epithelial\",\n",
    "    \"11\": \"Fibroblast\",\n",
    "    \"12\": \"Epithelial\",\n",
    "    \"13\": \"Epithelial\",\n",
    "    \"14\": \"T cell\",\n",
    "    \"15\": \"Muscle\",\n",
    "    \"16\": \"Endothelial\",\n",
    "    \"17\": \"Epithelial\",\n",
    "    \"18\": \"Myeloid\",\n",
    "    \"19\": \"Epithelial\",\n",
    "    \"20\": \"Muscle\",\n",
    "    \"21\": \"Epithelial\",\n",
    "    \"22\": \"Mast cell\",\n",
    "    \"23\": \"Epithelial\",\n",
    "    \"24\": \"Schwann cell\",\n",
    "}"
   ]
  },
  {
   "cell_type": "code",
   "execution_count": null,
   "metadata": {},
   "outputs": [],
   "source": [
    "adata_keep.obs[\"cl_major\"] = adata_keep.obs['keep_leiden_1.0'].map(cl_major)"
   ]
  },
  {
   "cell_type": "code",
   "execution_count": null,
   "metadata": {},
   "outputs": [],
   "source": [
    "sc.pl.umap(adata_keep,color = ['cl_major'], frameon=False)"
   ]
  },
  {
   "cell_type": "code",
   "execution_count": null,
   "metadata": {},
   "outputs": [],
   "source": [
    "adata_deg.obs['cl_major'] = adata_keep.obs['cl_major']"
   ]
  },
  {
   "cell_type": "code",
   "execution_count": null,
   "metadata": {},
   "outputs": [],
   "source": [
    "%%capture --no-display\n",
    "sc.tl.rank_genes_groups(adata_deg, 'cl_major', method='wilcoxon')\n",
    "sc.tl.filter_rank_genes_groups(adata_deg, min_fold_change=1.5,min_in_group_fraction=0.8,max_out_group_fraction=0.2)"
   ]
  },
  {
   "cell_type": "code",
   "execution_count": null,
   "metadata": {},
   "outputs": [],
   "source": [
    "sc.tl.filter_rank_genes_groups(adata_deg, min_fold_change=1.5)"
   ]
  },
  {
   "cell_type": "code",
   "execution_count": null,
   "metadata": {},
   "outputs": [],
   "source": [
    "sc.pl.rank_genes_groups_dotplot(adata_deg, key='rank_genes_groups_filtered',dendrogram=False,n_genes =5)"
   ]
  },
  {
   "cell_type": "code",
   "execution_count": null,
   "metadata": {},
   "outputs": [],
   "source": [
    "adata_keep_filter = adata_keep[adata_keep.obs['percent_mt']<5, :]"
   ]
  },
  {
   "cell_type": "code",
   "execution_count": null,
   "metadata": {},
   "outputs": [],
   "source": [
    "pd.crosstab(adata_keep_filter.obs['SampleType'], adata_keep_filter.obs['keep_leiden_1.0'])"
   ]
  },
  {
   "cell_type": "code",
   "execution_count": null,
   "metadata": {},
   "outputs": [],
   "source": [
    "adata_keep.obs.groupby('keep_leiden_1.0')['percent_mt'].describe()"
   ]
  },
  {
   "cell_type": "code",
   "execution_count": null,
   "metadata": {},
   "outputs": [],
   "source": [
    "%%capture --no-display\n",
    "sc.pl.violin(adata_keep, ['percent_mt'],groupby='keep_leiden_1.0',\n",
    "             jitter=0.4, multi_panel=True, stripplot=False)"
   ]
  },
  {
   "cell_type": "code",
   "execution_count": null,
   "metadata": {},
   "outputs": [],
   "source": [
    "adata_keep.obs.to_csv(resdir + '/celltype.csv')"
   ]
  },
  {
   "cell_type": "code",
   "execution_count": null,
   "metadata": {},
   "outputs": [],
   "source": [
    "adata_keep.write_h5ad(resdir+'/'+filtertype+'_anno.h5ad')"
   ]
  }
 ],
 "metadata": {
  "kernelspec": {
   "display_name": "scRNA",
   "language": "python",
   "name": "python3"
  },
  "language_info": {
   "codemirror_mode": {
    "name": "ipython",
    "version": 3
   },
   "file_extension": ".py",
   "mimetype": "text/x-python",
   "name": "python",
   "nbconvert_exporter": "python",
   "pygments_lexer": "ipython3",
   "version": "3.9.16"
  }
 },
 "nbformat": 4,
 "nbformat_minor": 2
}
