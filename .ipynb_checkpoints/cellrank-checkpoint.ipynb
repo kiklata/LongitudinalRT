{
 "cells": [
  {
   "cell_type": "code",
   "execution_count": 1,
   "metadata": {},
   "outputs": [
    {
     "name": "stderr",
     "output_type": "stream",
     "text": [
      "Global seed set to 0\n"
     ]
    }
   ],
   "source": [
    "import cellrank as cr\n",
    "import scvelo as scv\n",
    "import scanpy as sc"
   ]
  },
  {
   "cell_type": "code",
   "execution_count": null,
   "metadata": {},
   "outputs": [],
   "source": [
    "# first subset celltype"
   ]
  },
  {
   "cell_type": "code",
   "execution_count": 5,
   "metadata": {},
   "outputs": [],
   "source": [
    "velo_dir = '/home/zhepan/Project/MultiOmics/data/snRNA/Result'\n",
    "res_dir = '/home/zhepan/Project/MultiOmics/data/snRNA/Object/summary/velo'\n",
    "samplelist = sample_list = ['P1013S2','P1015S2','P1018S1']"
   ]
  },
  {
   "cell_type": "code",
   "execution_count": null,
   "metadata": {},
   "outputs": [],
   "source": [
    "adatas = [sc.read_h5ad('/home/zhepan/Project/MultiOmics/data/snRNA/Object/'+sample+'/raw/cellranger_doublet.h5ad') for sample in sample_list]\n",
    "velos = [sc.read_loom(velo_dir+'/'+sample+'/velocyto/'+sample+'.loom') for sample in samplelist]"
   ]
  },
  {
   "cell_type": "code",
   "execution_count": null,
   "metadata": {},
   "outputs": [],
   "source": [
    "for index, sample in enumerate(samplelist):\n",
    "    velos[index].var_names_make_unique()\n",
    "    scv.utils.clean_obs_names(adatas[index], id_length=16)\n",
    "    scv.utils.clean_obs_names(velos[index], id_length=16)\n",
    "    adatas[index] = scv.utils.merge(adatas[index], velos[index])\n",
    "    adatas[index].obs_names = adatas[index].obs_names + '-1' "
   ]
  },
  {
   "cell_type": "code",
   "execution_count": null,
   "metadata": {},
   "outputs": [],
   "source": [
    "total =adatas[0].concatenate(adatas[1:], join = 'outer')\n",
    "tcell_velo = total[total.obs_names.isin(tcell.obs_names)]\n",
    "tcell_velo"
   ]
  },
  {
   "cell_type": "code",
   "execution_count": null,
   "metadata": {},
   "outputs": [],
   "source": [
    "tcell_velo.X = tcell_velo.layers['spliced']"
   ]
  },
  {
   "cell_type": "code",
   "execution_count": null,
   "metadata": {},
   "outputs": [],
   "source": [
    "scv.pp.filter_and_normalize(\n",
    "    tcell_velo, min_shared_counts=20, n_top_genes=2000, subset_highly_variable=False\n",
    ")\n",
    "sc.tl.pca(tcell_velo)\n",
    "sc.pp.neighbors(tcell_velo, n_pcs=30, n_neighbors=30, random_state=0)\n",
    "scv.pp.moments(tcell_velo, n_pcs=None, n_neighbors=None)"
   ]
  },
  {
   "cell_type": "code",
   "execution_count": null,
   "metadata": {},
   "outputs": [],
   "source": [
    "#tcell_velo.write_h5ad(res_dir+'/tcell_velo.h5ad')"
   ]
  },
  {
   "cell_type": "code",
   "execution_count": 6,
   "metadata": {},
   "outputs": [],
   "source": [
    "tcell_velo = sc.read_h5ad(res_dir+'/tcell_velo.h5ad')"
   ]
  },
  {
   "cell_type": "code",
   "execution_count": 7,
   "metadata": {},
   "outputs": [
    {
     "data": {
      "text/plain": [
       "AnnData object with n_obs × n_vars = 2567 × 2037\n",
       "    obs: 'orig.ident', 'nCount_RNA', 'nFeature_RNA', 'PatientID', 'NeoChemoRes', 'NeoRadRes', 'SampleID', 'SampleTimepoint', 'SampleMethod', 'SampleDate', 'Kit', 'scDblFinder.score', 'scDblFinder.class', 'percent_mt', 'percent_hb', 'S.Score', 'G2M.Score', 'Phase', 'initial_size_unspliced', 'initial_size_spliced', 'initial_size', 'batch', 'n_counts'\n",
       "    var: 'name-0', 'Accession-0', 'Chromosome-0', 'End-0', 'Start-0', 'Strand-0', 'name-1', 'Accession-1', 'Chromosome-1', 'End-1', 'Start-1', 'Strand-1', 'name-2', 'Accession-2', 'Chromosome-2', 'End-2', 'Start-2', 'Strand-2', 'means', 'dispersions', 'dispersions_norm', 'highly_variable', 'fit_r2', 'fit_alpha', 'fit_beta', 'fit_gamma', 'fit_t_', 'fit_scaling', 'fit_std_u', 'fit_std_s', 'fit_likelihood', 'fit_u0', 'fit_s0', 'fit_pval_steady', 'fit_steady_u', 'fit_steady_s', 'fit_variance', 'fit_alignment_scaling'\n",
       "    uns: 'log1p', 'neighbors', 'pca', 'recover_dynamics'\n",
       "    obsm: 'X_pca'\n",
       "    varm: 'PCs', 'loss'\n",
       "    layers: 'Ms', 'Mu', 'ambiguous', 'fit_t', 'fit_tau', 'fit_tau_', 'matrix', 'spliced', 'unspliced'\n",
       "    obsp: 'connectivities', 'distances'"
      ]
     },
     "execution_count": 7,
     "metadata": {},
     "output_type": "execute_result"
    }
   ],
   "source": [
    "tcell_velo"
   ]
  },
  {
   "cell_type": "code",
   "execution_count": 8,
   "metadata": {},
   "outputs": [
    {
     "name": "stdout",
     "output_type": "stream",
     "text": [
      "recovering dynamics (using 8/20 cores)\n"
     ]
    },
    {
     "data": {
      "application/vnd.jupyter.widget-view+json": {
       "model_id": "2e9983e4149d43f3b37b589e396d674c",
       "version_major": 2,
       "version_minor": 0
      },
      "text/plain": [
       "  0%|          | 0/417 [00:00<?, ?gene/s]"
      ]
     },
     "metadata": {},
     "output_type": "display_data"
    },
    {
     "name": "stderr",
     "output_type": "stream",
     "text": [
      "Global seed set to 0\n",
      "Global seed set to 0\n",
      "Global seed set to 0\n",
      "Global seed set to 0\n",
      "Global seed set to 0\n",
      "Global seed set to 0\n",
      "Global seed set to 0\n",
      "Global seed set to 0\n"
     ]
    },
    {
     "name": "stdout",
     "output_type": "stream",
     "text": [
      "    finished (0:03:51) --> added \n",
      "    'fit_pars', fitted parameters for splicing dynamics (adata.var)\n"
     ]
    }
   ],
   "source": [
    "scv.tl.recover_dynamics(tcell_velo, n_jobs=8)"
   ]
  },
  {
   "cell_type": "code",
   "execution_count": 9,
   "metadata": {},
   "outputs": [
    {
     "name": "stdout",
     "output_type": "stream",
     "text": [
      "computing velocities\n",
      "    finished (0:02:46) --> added \n",
      "    'velocity', velocity vectors for each individual cell (adata.layers)\n"
     ]
    }
   ],
   "source": [
    "scv.tl.velocity(tcell_velo, mode=\"dynamical\")"
   ]
  },
  {
   "cell_type": "code",
   "execution_count": 10,
   "metadata": {},
   "outputs": [
    {
     "data": {
      "application/vnd.jupyter.widget-view+json": {
       "model_id": "84aa54e6d6584ac0ade3073eae049f89",
       "version_major": 2,
       "version_minor": 0
      },
      "text/plain": [
       "  0%|          | 0/2567 [00:00<?, ?cell/s]"
      ]
     },
     "metadata": {},
     "output_type": "display_data"
    },
    {
     "data": {
      "application/vnd.jupyter.widget-view+json": {
       "model_id": "0b9852b3ab5a4a1e84128422f9623b4b",
       "version_major": 2,
       "version_minor": 0
      },
      "text/plain": [
       "  0%|          | 0/2567 [00:00<?, ?cell/s]"
      ]
     },
     "metadata": {},
     "output_type": "display_data"
    },
    {
     "data": {
      "text/plain": [
       "VelocityKernel[n=2567, model='deterministic', similarity='correlation', softmax_scale=7.686]"
      ]
     },
     "execution_count": 10,
     "metadata": {},
     "output_type": "execute_result"
    }
   ],
   "source": [
    "vk = cr.kernels.VelocityKernel(tcell_velo)\n",
    "vk.compute_transition_matrix()"
   ]
  },
  {
   "cell_type": "code",
   "execution_count": null,
   "metadata": {},
   "outputs": [],
   "source": [
    "ck = cr.kernels.ConnectivityKernel(tcell_velo)\n",
    "ck.compute_transition_matrix()\n",
    "\n",
    "combined_kernel = 0.8 * vk + 0.2 * ck"
   ]
  },
  {
   "cell_type": "code",
   "execution_count": null,
   "metadata": {},
   "outputs": [],
   "source": [
    "sce.pp.harmony_integrate(tcell_velo, 'SampleID')\n",
    "sc.pp.neighbors(tcell_velo, use_rep='X_pca_harmony')\n",
    "sc.tl.umap(tcell_velo,min_dist=0.2)"
   ]
  },
  {
   "cell_type": "code",
   "execution_count": null,
   "metadata": {},
   "outputs": [],
   "source": [
    "vk.plot_projection()"
   ]
  }
 ],
 "metadata": {
  "kernelspec": {
   "display_name": "cellrank",
   "language": "python",
   "name": "python3"
  },
  "language_info": {
   "codemirror_mode": {
    "name": "ipython",
    "version": 3
   },
   "file_extension": ".py",
   "mimetype": "text/x-python",
   "name": "python",
   "nbconvert_exporter": "python",
   "pygments_lexer": "ipython3",
   "version": "3.9.18"
  }
 },
 "nbformat": 4,
 "nbformat_minor": 2
}
